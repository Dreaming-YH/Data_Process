{
 "cells": [
  {
   "cell_type": "code",
   "execution_count": 1,
   "metadata": {},
   "outputs": [],
   "source": [
    "import pandas as pd\n",
    "import numpy as np"
   ]
  },
  {
   "cell_type": "code",
   "execution_count": 2,
   "metadata": {},
   "outputs": [],
   "source": [
    "def show_df_info(df):\n",
    "    print(df.info())\n",
    "    print('####### Repeat ####### \\n', df.duplicated().any())\n",
    "    print('####### Count ####### \\n', df.nunique())\n",
    "#     print('####### Describe ####### \\n', df.describe())\n",
    "    print('####### Example ####### \\n',df.head())"
   ]
  },
  {
   "cell_type": "code",
   "execution_count": 3,
   "metadata": {},
   "outputs": [],
   "source": [
    "def label_statics(label_df, label_list):\n",
    "    print(\"####### nCount #######\")\n",
    "    for label in label_list:\n",
    "        print(label_df[label].value_counts())\n",
    "    print(\"####### nPercent #######\")\n",
    "    for label in label_list:\n",
    "        print(label_df[label].value_counts()/label_df.shape[0])"
   ]
  },
  {
   "cell_type": "markdown",
   "metadata": {},
   "source": [
    "# Load"
   ]
  },
  {
   "cell_type": "markdown",
   "metadata": {},
   "source": [
    "## label"
   ]
  },
  {
   "cell_type": "markdown",
   "metadata": {},
   "source": [
    "### label analysis"
   ]
  },
  {
   "cell_type": "code",
   "execution_count": 4,
   "metadata": {},
   "outputs": [
    {
     "name": "stdout",
     "output_type": "stream",
     "text": [
      "<class 'pandas.core.frame.DataFrame'>\n",
      "Int64Index: 395932 entries, 1 to 1061767\n",
      "Data columns (total 9 columns):\n",
      "uid       395932 non-null int64\n",
      "sid       395932 non-null int64\n",
      "gid       395932 non-null int64\n",
      "gender    395932 non-null int64\n",
      "age       395932 non-null int64\n",
      "plevel    395932 non-null float64\n",
      "slevel    395932 non-null int64\n",
      "status    395932 non-null int64\n",
      "city      395932 non-null float64\n",
      "dtypes: float64(2), int64(7)\n",
      "memory usage: 30.2 MB\n",
      "None\n",
      "####### Repeat ####### \n",
      " False\n",
      "####### Count ####### \n",
      " uid       395932\n",
      "sid           97\n",
      "gid           13\n",
      "gender         2\n",
      "age            7\n",
      "plevel         3\n",
      "slevel         3\n",
      "status         2\n",
      "city           4\n",
      "dtype: int64\n",
      "####### Example ####### \n",
      "     uid  sid  gid  gender  age  plevel  slevel  status  city\n",
      "1   523    5    2       2    2     1.0       3       1   2.0\n",
      "5  3644   49    6       2    6     2.0       3       0   2.0\n",
      "6  5777   44    5       2    5     2.0       3       0   2.0\n",
      "8  6355    2    1       2    1     1.0       3       0   4.0\n",
      "9  6823   43    5       2    5     2.0       3       0   1.0\n"
     ]
    }
   ],
   "source": [
    "label = pd.read_csv('./user_profile.csv')\n",
    "label.dropna(inplace=True)\n",
    "label.rename(columns={'userid':'uid', 'cms_segid':'sid', 'cms_group_id':'gid', 'final_gender_code':'gender','age_level':'age', \\\n",
    "                      'pvalue_level':'plevel', 'shopping_level':'slevel', 'occupation':'status', 'new_user_class_level ':'city'}, inplace=True)\n",
    "show_df_info(label)"
   ]
  },
  {
   "cell_type": "code",
   "execution_count": 5,
   "metadata": {
    "scrolled": true
   },
   "outputs": [
    {
     "name": "stdout",
     "output_type": "stream",
     "text": [
      "####### nCount #######\n",
      "2    269064\n",
      "1    126868\n",
      "Name: gender, dtype: int64\n",
      "3    120071\n",
      "4     94831\n",
      "2     83409\n",
      "5     73721\n",
      "1     16734\n",
      "6      7026\n",
      "0       140\n",
      "Name: age, dtype: int64\n",
      "2.0    242292\n",
      "1.0    121345\n",
      "3.0     32295\n",
      "Name: plevel, dtype: int64\n",
      "3    371196\n",
      "2     23038\n",
      "1      1698\n",
      "Name: slevel, dtype: int64\n",
      "0    367856\n",
      "1     28076\n",
      "Name: status, dtype: int64\n",
      "2.0    178624\n",
      "3.0     96252\n",
      "4.0     76959\n",
      "1.0     44097\n",
      "Name: city, dtype: int64\n",
      "####### nPercent #######\n",
      "2    0.679571\n",
      "1    0.320429\n",
      "Name: gender, dtype: float64\n",
      "3    0.303262\n",
      "4    0.239513\n",
      "2    0.210665\n",
      "5    0.186196\n",
      "1    0.042265\n",
      "6    0.017745\n",
      "0    0.000354\n",
      "Name: age, dtype: float64\n",
      "2.0    0.611954\n",
      "1.0    0.306479\n",
      "3.0    0.081567\n",
      "Name: plevel, dtype: float64\n",
      "3    0.937525\n",
      "2    0.058187\n",
      "1    0.004289\n",
      "Name: slevel, dtype: float64\n",
      "0    0.929089\n",
      "1    0.070911\n",
      "Name: status, dtype: float64\n",
      "2.0    0.451148\n",
      "3.0    0.243102\n",
      "4.0    0.194374\n",
      "1.0    0.111375\n",
      "Name: city, dtype: float64\n"
     ]
    }
   ],
   "source": [
    "label_statics(label, label.columns[3:])"
   ]
  },
  {
   "cell_type": "markdown",
   "metadata": {},
   "source": [
    "### label filter"
   ]
  },
  {
   "cell_type": "code",
   "execution_count": 6,
   "metadata": {},
   "outputs": [
    {
     "name": "stdout",
     "output_type": "stream",
     "text": [
      "<class 'pandas.core.frame.DataFrame'>\n",
      "Int64Index: 395932 entries, 1 to 1061767\n",
      "Data columns (total 3 columns):\n",
      "uid     395932 non-null int64\n",
      "buy     395932 non-null float64\n",
      "city    395932 non-null float64\n",
      "dtypes: float64(2), int64(1)\n",
      "memory usage: 12.1 MB\n",
      "None\n",
      "####### Repeat ####### \n",
      " False\n",
      "####### Count ####### \n",
      " uid     395932\n",
      "buy          3\n",
      "city         4\n",
      "dtype: int64\n",
      "####### Example ####### \n",
      "     uid  buy  city\n",
      "1   523  1.0   2.0\n",
      "5  3644  2.0   2.0\n",
      "6  5777  2.0   2.0\n",
      "8  6355  1.0   4.0\n",
      "9  6823  2.0   1.0\n",
      "####### nCount #######\n",
      "2.0    242292\n",
      "1.0    121345\n",
      "3.0     32295\n",
      "Name: buy, dtype: int64\n",
      "2.0    178624\n",
      "3.0     96252\n",
      "4.0     76959\n",
      "1.0     44097\n",
      "Name: city, dtype: int64\n",
      "####### nPercent #######\n",
      "2.0    0.611954\n",
      "1.0    0.306479\n",
      "3.0    0.081567\n",
      "Name: buy, dtype: float64\n",
      "2.0    0.451148\n",
      "3.0    0.243102\n",
      "4.0    0.194374\n",
      "1.0    0.111375\n",
      "Name: city, dtype: float64\n"
     ]
    }
   ],
   "source": [
    "label = pd.read_csv('./user_profile.csv', usecols=[0,5,8])\n",
    "label.dropna(inplace=True)\n",
    "label.rename(columns={'userid':'uid', 'pvalue_level':'buy', 'new_user_class_level ':'city'}, inplace=True)\n",
    "\n",
    "show_df_info(label)\n",
    "label_statics(label, label.columns[1:])"
   ]
  },
  {
   "cell_type": "markdown",
   "metadata": {},
   "source": [
    "## pid_cid"
   ]
  },
  {
   "cell_type": "code",
   "execution_count": 7,
   "metadata": {},
   "outputs": [
    {
     "name": "stdout",
     "output_type": "stream",
     "text": [
      "<class 'pandas.core.frame.DataFrame'>\n",
      "RangeIndex: 846811 entries, 0 to 846810\n",
      "Data columns (total 2 columns):\n",
      "pid    846811 non-null int64\n",
      "cid    846811 non-null int64\n",
      "dtypes: int64(2)\n",
      "memory usage: 12.9 MB\n",
      "None\n",
      "####### Repeat ####### \n",
      " False\n",
      "####### Count ####### \n",
      " pid    846811\n",
      "cid      6769\n",
      "dtype: int64\n",
      "####### Example ####### \n",
      "       pid   cid\n",
      "0   63133  6406\n",
      "1  313401  6406\n",
      "2  248909   392\n",
      "3  208458   392\n",
      "4  110847  7211\n"
     ]
    }
   ],
   "source": [
    "pid_cid = pd.read_csv('./ad_feature.csv', usecols=['adgroup_id', 'cate_id'])\n",
    "pid_cid.rename(columns={'adgroup_id':'pid','cate_id':'cid'}, inplace=True)\n",
    "show_df_info(pid_cid)"
   ]
  },
  {
   "cell_type": "markdown",
   "metadata": {},
   "source": [
    "## uid_pid"
   ]
  },
  {
   "cell_type": "code",
   "execution_count": 8,
   "metadata": {},
   "outputs": [
    {
     "name": "stdout",
     "output_type": "stream",
     "text": [
      "<class 'pandas.core.frame.DataFrame'>\n",
      "Int64Index: 507112 entries, 92 to 26557931\n",
      "Data columns (total 2 columns):\n",
      "uid    507112 non-null int64\n",
      "pid    507112 non-null int64\n",
      "dtypes: int64(2)\n",
      "memory usage: 11.6 MB\n",
      "None\n",
      "####### Repeat ####### \n",
      " False\n",
      "####### Count ####### \n",
      " uid    180902\n",
      "pid    144201\n",
      "dtype: int64\n",
      "####### Example ####### \n",
      "          uid  pid\n",
      "92    642854  102\n",
      "257   843732  102\n",
      "283  1076956  102\n",
      "300   358193  102\n",
      "350  1002263  102\n"
     ]
    }
   ],
   "source": [
    "uid_pid = pd.read_csv('./raw_sample.csv', usecols=['user', 'adgroup_id', 'clk'])\n",
    "uid_pid.rename(columns={'user':'uid','adgroup_id':'pid'}, inplace=True)\n",
    "# show_df_info(uid_pid)\n",
    "\n",
    "uid_pid = uid_pid[uid_pid['clk']>0]\n",
    "# show_df_info(uid_pid)\n",
    "\n",
    "uid_pid.drop('clk', axis=1, inplace=True)\n",
    "\n",
    "uid_pid = uid_pid[uid_pid['uid'].isin(label['uid'])]\n",
    "uid_pid = uid_pid[uid_pid['pid'].isin(pid_cid['pid'])]\n",
    "# show_df_info(uid_pid)\n",
    "\n",
    "uid_pid.drop_duplicates(inplace=True)\n",
    "show_df_info(uid_pid)"
   ]
  },
  {
   "cell_type": "markdown",
   "metadata": {},
   "source": [
    "# Filter & Process"
   ]
  },
  {
   "cell_type": "code",
   "execution_count": 9,
   "metadata": {},
   "outputs": [],
   "source": [
    "def get_count(tp, id):\n",
    "    playcount_groupbyid = tp[[id]].groupby(id, as_index=False)\n",
    "    count = playcount_groupbyid.size()\n",
    "    return count\n",
    "\n",
    "def filter_triplets(tp, user, item, min_uc=0, min_sc=0):\n",
    "    # Only keep the triplets for users who clicked on at least min_uc items\n",
    "    if min_uc > 0:\n",
    "        usercount = get_count(tp, user)\n",
    "        tp = tp[tp[user].isin(usercount.index[usercount >= min_uc])]\n",
    "    \n",
    "    # Only keep the triplets for items which were clicked on by at least min_sc users. \n",
    "    if min_sc > 0:\n",
    "        itemcount = get_count(tp, item)\n",
    "        tp = tp[tp[item].isin(itemcount.index[itemcount >= min_sc])]\n",
    "    \n",
    "    # Update both usercount and itemcount after filtering\n",
    "    usercount, itemcount = get_count(tp, user), get_count(tp, item) \n",
    "    return tp, usercount, itemcount"
   ]
  },
  {
   "cell_type": "markdown",
   "metadata": {},
   "source": [
    "### filter uid_pid (item interactions>=2)"
   ]
  },
  {
   "cell_type": "code",
   "execution_count": 10,
   "metadata": {},
   "outputs": [
    {
     "name": "stdout",
     "output_type": "stream",
     "text": [
      "After filtering, there are 427464 interacton events from 166958 users and 64553 items (sparsity: 0.0040%)\n"
     ]
    }
   ],
   "source": [
    "uid_pid, uid_activity, pid_popularity = filter_triplets(uid_pid, 'uid', 'pid', min_uc=0, min_sc=2) # min_sc>=2\n",
    "\n",
    "sparsity = 1. * uid_pid.shape[0] / (uid_activity.shape[0] * pid_popularity.shape[0])\n",
    "\n",
    "print(\"After filtering, there are %d interacton events from %d users and %d items (sparsity: %.4f%%)\" % \n",
    "      (uid_pid.shape[0], uid_activity.shape[0], pid_popularity.shape[0], sparsity * 100))"
   ]
  },
  {
   "cell_type": "code",
   "execution_count": 11,
   "metadata": {},
   "outputs": [
    {
     "name": "stdout",
     "output_type": "stream",
     "text": [
      "<class 'pandas.core.frame.DataFrame'>\n",
      "Int64Index: 427464 entries, 92 to 26557917\n",
      "Data columns (total 2 columns):\n",
      "uid    427464 non-null int64\n",
      "pid    427464 non-null int64\n",
      "dtypes: int64(2)\n",
      "memory usage: 9.8 MB\n",
      "None\n",
      "####### Repeat ####### \n",
      " False\n",
      "####### Count ####### \n",
      " uid    166958\n",
      "pid     64553\n",
      "dtype: int64\n",
      "####### Example ####### \n",
      "          uid  pid\n",
      "92    642854  102\n",
      "257   843732  102\n",
      "283  1076956  102\n",
      "300   358193  102\n",
      "350  1002263  102\n"
     ]
    }
   ],
   "source": [
    "show_df_info(uid_pid)"
   ]
  },
  {
   "cell_type": "markdown",
   "metadata": {},
   "source": [
    "## uid_cid"
   ]
  },
  {
   "cell_type": "code",
   "execution_count": 12,
   "metadata": {},
   "outputs": [
    {
     "name": "stdout",
     "output_type": "stream",
     "text": [
      "<class 'pandas.core.frame.DataFrame'>\n",
      "Int64Index: 306057 entries, 0 to 427463\n",
      "Data columns (total 2 columns):\n",
      "uid    306057 non-null int64\n",
      "cid    306057 non-null int64\n",
      "dtypes: int64(2)\n",
      "memory usage: 7.0 MB\n",
      "None\n",
      "####### Repeat ####### \n",
      " False\n",
      "####### Count ####### \n",
      " uid    166958\n",
      "cid      2820\n",
      "dtype: int64\n",
      "####### Example ####### \n",
      "        uid  cid\n",
      "0   642854  126\n",
      "1   843732  126\n",
      "2  1076956  126\n",
      "3   358193  126\n",
      "4  1002263  126\n"
     ]
    }
   ],
   "source": [
    "uid_pid_cid = pd.merge(uid_pid, pid_cid, how='inner', on='pid')\n",
    "# show_df_info(uid_pid_cid)\n",
    "raw_uid_cid = uid_pid_cid.drop('pid', axis=1, inplace=False)\n",
    "# show_df_info(uid_cid)\n",
    "raw_uid_cid.drop_duplicates(inplace=True)\n",
    "show_df_info(raw_uid_cid)"
   ]
  },
  {
   "cell_type": "markdown",
   "metadata": {},
   "source": [
    "### filter uid_cid (cid interactions>=2 is optional)"
   ]
  },
  {
   "cell_type": "code",
   "execution_count": 13,
   "metadata": {},
   "outputs": [
    {
     "name": "stdout",
     "output_type": "stream",
     "text": [
      "After filtering, there are 306057 interacton events from 166958 users and 2820 items (sparsity: 0.0650%)\n"
     ]
    }
   ],
   "source": [
    "uid_cid, uid_activity, cid_popularity = filter_triplets(raw_uid_cid, 'uid', 'cid', min_uc=0, min_sc=2) # min_sc>=2\n",
    "\n",
    "sparsity = 1. * uid_cid.shape[0] / (uid_activity.shape[0] * cid_popularity.shape[0])\n",
    "\n",
    "print(\"After filtering, there are %d interacton events from %d users and %d items (sparsity: %.4f%%)\" % \n",
    "      (uid_cid.shape[0], uid_activity.shape[0], cid_popularity.shape[0], sparsity * 100))"
   ]
  },
  {
   "cell_type": "code",
   "execution_count": 14,
   "metadata": {},
   "outputs": [
    {
     "name": "stdout",
     "output_type": "stream",
     "text": [
      "<class 'pandas.core.frame.DataFrame'>\n",
      "Int64Index: 306057 entries, 0 to 427463\n",
      "Data columns (total 2 columns):\n",
      "uid    306057 non-null int64\n",
      "cid    306057 non-null int64\n",
      "dtypes: int64(2)\n",
      "memory usage: 7.0 MB\n",
      "None\n",
      "####### Repeat ####### \n",
      " False\n",
      "####### Count ####### \n",
      " uid    166958\n",
      "cid      2820\n",
      "dtype: int64\n",
      "####### Example ####### \n",
      "        uid  cid\n",
      "0   642854  126\n",
      "1   843732  126\n",
      "2  1076956  126\n",
      "3   358193  126\n",
      "4  1002263  126\n"
     ]
    }
   ],
   "source": [
    "show_df_info(uid_cid)"
   ]
  },
  {
   "cell_type": "markdown",
   "metadata": {},
   "source": [
    "## uid_uid"
   ]
  },
  {
   "cell_type": "code",
   "execution_count": 15,
   "metadata": {},
   "outputs": [],
   "source": [
    "uid_pid = uid_pid[uid_pid['uid'].isin(uid_cid['uid'])]\n",
    "\n",
    "uid_pid_1 = uid_pid[['uid','pid']].copy()\n",
    "uid_pid_1.rename(columns={'uid':'uid1'}, inplace=True)\n",
    "\n",
    "uid_pid_2 = uid_pid[['uid','pid']].copy()\n",
    "uid_pid_2.rename(columns={'uid':'uid2'}, inplace=True)"
   ]
  },
  {
   "cell_type": "code",
   "execution_count": 16,
   "metadata": {},
   "outputs": [
    {
     "name": "stdout",
     "output_type": "stream",
     "text": [
      "<class 'pandas.core.frame.DataFrame'>\n",
      "Int64Index: 29061406 entries, 0 to 29616698\n",
      "Data columns (total 2 columns):\n",
      "uid1    int64\n",
      "uid2    int64\n",
      "dtypes: int64(2)\n",
      "memory usage: 665.2 MB\n",
      "None\n",
      "####### Repeat ####### \n",
      " False\n",
      "####### Count ####### \n",
      " uid1    166958\n",
      "uid2    166958\n",
      "dtype: int64\n",
      "####### Example ####### \n",
      "      uid1     uid2\n",
      "0  642854   642854\n",
      "1  642854   843732\n",
      "2  642854  1076956\n",
      "3  642854   358193\n",
      "4  642854  1002263\n"
     ]
    }
   ],
   "source": [
    "uid_pid_uid = pd.merge(uid_pid_1, uid_pid_2, how='inner', on='pid')\n",
    "uid_uid = uid_pid_uid.drop('pid', axis=1, inplace=False)\n",
    "uid_uid.drop_duplicates(inplace=True)\n",
    "show_df_info(uid_uid)"
   ]
  },
  {
   "cell_type": "code",
   "execution_count": 17,
   "metadata": {},
   "outputs": [],
   "source": [
    "del uid_pid_1, uid_pid_2, uid_pid_uid"
   ]
  },
  {
   "cell_type": "markdown",
   "metadata": {},
   "source": [
    "# Map"
   ]
  },
  {
   "cell_type": "code",
   "execution_count": 18,
   "metadata": {},
   "outputs": [],
   "source": [
    "user_label = label[label['uid'].isin(uid_cid['uid'])]"
   ]
  },
  {
   "cell_type": "code",
   "execution_count": 19,
   "metadata": {},
   "outputs": [],
   "source": [
    "uid2id = {num: i for i, num in enumerate(user_label['uid'])}\n",
    "cid2id = {num: i for i, num in enumerate(pd.unique(uid_cid['cid']))}\n",
    "\n",
    "def col_map(df, col, num2id):\n",
    "    df[[col]] = df[[col]].applymap(lambda x: num2id[x])\n",
    "    return df"
   ]
  },
  {
   "cell_type": "code",
   "execution_count": 20,
   "metadata": {
    "scrolled": true
   },
   "outputs": [
    {
     "name": "stdout",
     "output_type": "stream",
     "text": [
      "####### nCount #######\n",
      "2.0    100679\n",
      "1.0     54233\n",
      "3.0     12046\n",
      "Name: buy, dtype: int64\n",
      "2.0    74810\n",
      "3.0    41577\n",
      "4.0    33160\n",
      "1.0    17411\n",
      "Name: city, dtype: int64\n",
      "####### nPercent #######\n",
      "2.0    0.60302\n",
      "1.0    0.32483\n",
      "3.0    0.07215\n",
      "Name: buy, dtype: float64\n",
      "2.0    0.448077\n",
      "3.0    0.249027\n",
      "4.0    0.198613\n",
      "1.0    0.104284\n",
      "Name: city, dtype: float64\n"
     ]
    }
   ],
   "source": [
    "label_statics(user_label, user_label.columns[1:])"
   ]
  },
  {
   "cell_type": "code",
   "execution_count": 21,
   "metadata": {},
   "outputs": [
    {
     "name": "stderr",
     "output_type": "stream",
     "text": [
      "/home/nature/Air/pytorch-gpu/venv/lib/python3.5/site-packages/pandas/core/frame.py:3391: SettingWithCopyWarning: \n",
      "A value is trying to be set on a copy of a slice from a DataFrame.\n",
      "Try using .loc[row_indexer,col_indexer] = value instead\n",
      "\n",
      "See the caveats in the documentation: http://pandas.pydata.org/pandas-docs/stable/indexing.html#indexing-view-versus-copy\n",
      "  self[k1] = value[k2]\n"
     ]
    },
    {
     "name": "stdout",
     "output_type": "stream",
     "text": [
      "<class 'pandas.core.frame.DataFrame'>\n",
      "Int64Index: 166958 entries, 1 to 1061754\n",
      "Data columns (total 3 columns):\n",
      "uid     166958 non-null int64\n",
      "buy     166958 non-null int64\n",
      "city    166958 non-null int64\n",
      "dtypes: int64(3)\n",
      "memory usage: 5.1 MB\n",
      "None\n",
      "####### Repeat ####### \n",
      " False\n",
      "####### Count ####### \n",
      " uid     166958\n",
      "buy          3\n",
      "city         4\n",
      "dtype: int64\n",
      "####### Example ####### \n",
      "     uid  buy  city\n",
      "1     0    0     0\n",
      "5     1    1     0\n",
      "6     2    1     0\n",
      "9     3    1     1\n",
      "10    4    1     0\n"
     ]
    }
   ],
   "source": [
    "def label_map(label_df, label_list):\n",
    "    for label in label_list:\n",
    "        label2id = {num: i for i, num in enumerate(pd.unique(label_df[label]))}\n",
    "        label_df = col_map(label_df, label, label2id)\n",
    "    return label_df\n",
    "    \n",
    "user_label = col_map(user_label, 'uid', uid2id)\n",
    "user_label = label_map(user_label, user_label.columns[1:])\n",
    "show_df_info(user_label)"
   ]
  },
  {
   "cell_type": "code",
   "execution_count": 22,
   "metadata": {},
   "outputs": [
    {
     "name": "stdout",
     "output_type": "stream",
     "text": [
      "<class 'pandas.core.frame.DataFrame'>\n",
      "Int64Index: 29061406 entries, 0 to 29616698\n",
      "Data columns (total 2 columns):\n",
      "uid1    int64\n",
      "uid2    int64\n",
      "dtypes: int64(2)\n",
      "memory usage: 665.2 MB\n",
      "None\n",
      "####### Repeat ####### \n",
      " False\n",
      "####### Count ####### \n",
      " uid1    166958\n",
      "uid2    166958\n",
      "dtype: int64\n",
      "####### Example ####### \n",
      "      uid1    uid2\n",
      "0  118017  118017\n",
      "1  118017   42978\n",
      "2  118017    6673\n",
      "3  118017   33244\n",
      "4  118017   42163\n"
     ]
    }
   ],
   "source": [
    "user_edge = uid_uid[uid_uid['uid1'].isin(uid_cid['uid'])]\n",
    "user_edge = user_edge[user_edge['uid2'].isin(uid_cid['uid'])]\n",
    "# show_df_info(user_edge)\n",
    "\n",
    "user_edge = col_map(user_edge, 'uid1', uid2id)\n",
    "user_edge = col_map(user_edge, 'uid2', uid2id)\n",
    "show_df_info(user_edge)"
   ]
  },
  {
   "cell_type": "code",
   "execution_count": 23,
   "metadata": {},
   "outputs": [
    {
     "name": "stdout",
     "output_type": "stream",
     "text": [
      "<class 'pandas.core.frame.DataFrame'>\n",
      "Int64Index: 306057 entries, 0 to 427463\n",
      "Data columns (total 2 columns):\n",
      "uid    306057 non-null int64\n",
      "cid    306057 non-null int64\n",
      "dtypes: int64(2)\n",
      "memory usage: 7.0 MB\n",
      "None\n",
      "####### Repeat ####### \n",
      " False\n",
      "####### Count ####### \n",
      " uid    166958\n",
      "cid      2820\n",
      "dtype: int64\n",
      "####### Example ####### \n",
      "       uid  cid\n",
      "0  118017    0\n",
      "1   42978    0\n",
      "2    6673    0\n",
      "3   33244    0\n",
      "4   42163    0\n"
     ]
    }
   ],
   "source": [
    "user_field = col_map(uid_cid, 'uid', uid2id)\n",
    "user_field = col_map(user_field, 'cid', cid2id)\n",
    "show_df_info(user_field)"
   ]
  },
  {
   "cell_type": "markdown",
   "metadata": {},
   "source": [
    "# Save"
   ]
  },
  {
   "cell_type": "code",
   "execution_count": 24,
   "metadata": {
    "scrolled": true
   },
   "outputs": [
    {
     "name": "stdout",
     "output_type": "stream",
     "text": [
      "####### nCount #######\n",
      "1    100679\n",
      "0     54233\n",
      "2     12046\n",
      "Name: buy, dtype: int64\n",
      "0    74810\n",
      "3    41577\n",
      "2    33160\n",
      "1    17411\n",
      "Name: city, dtype: int64\n",
      "####### nPercent #######\n",
      "1    0.60302\n",
      "0    0.32483\n",
      "2    0.07215\n",
      "Name: buy, dtype: float64\n",
      "0    0.448077\n",
      "3    0.249027\n",
      "2    0.198613\n",
      "1    0.104284\n",
      "Name: city, dtype: float64\n"
     ]
    }
   ],
   "source": [
    "label_statics(user_label, user_label.columns[1:])"
   ]
  },
  {
   "cell_type": "code",
   "execution_count": 25,
   "metadata": {},
   "outputs": [],
   "source": [
    "user_edge.to_csv('./input/user_edge.csv', index=False)"
   ]
  },
  {
   "cell_type": "code",
   "execution_count": 26,
   "metadata": {},
   "outputs": [],
   "source": [
    "user_field.to_csv('./input/user_field.csv', index=False)"
   ]
  },
  {
   "cell_type": "code",
   "execution_count": 27,
   "metadata": {},
   "outputs": [],
   "source": [
    "user_label[['uid','buy']].to_csv('./input/user_buy.csv', index=False)\n",
    "user_label[['uid','city']].to_csv('./input/user_city.csv', index=False)"
   ]
  },
  {
   "cell_type": "markdown",
   "metadata": {},
   "source": [
    "# Reprocess"
   ]
  },
  {
   "cell_type": "code",
   "execution_count": 28,
   "metadata": {},
   "outputs": [
    {
     "name": "stdout",
     "output_type": "stream",
     "text": [
      "Shapes of user with field: (166958, 2820)\n",
      "Number of user with field: 166958\n",
      "Shape of sampled user_field: (166958, 10)\n"
     ]
    }
   ],
   "source": [
    "import numpy as np\n",
    "import pandas as pd\n",
    "import scipy.sparse as sp\n",
    "\n",
    "import time\n",
    "\n",
    "NUM_FIELD = 10\n",
    "\n",
    "np.random.seed(42)\n",
    "\n",
    "def field_reader(path):\n",
    "    \"\"\"\n",
    "    Reading the sparse field matrix stored as csv from the disk.\n",
    "    :param path: Path to the csv file.\n",
    "    :return field: csr matrix of field.\n",
    "    \"\"\"\n",
    "    user_field = pd.read_csv(path)\n",
    "    user_index = user_field[\"uid\"].values.tolist()\n",
    "    field_index = user_field[\"cid\"].values.tolist()\n",
    "    user_count = max(user_index)+1\n",
    "    field_count = max(field_index)+1\n",
    "    field_index = sp.csr_matrix((np.ones_like(user_index), (user_index, field_index)), shape=(user_count, field_count))\n",
    "    return field_index\n",
    "\n",
    "user_field = field_reader('./input/user_field.csv')\n",
    "\n",
    "print(\"Shapes of user with field:\", user_field.shape)\n",
    "print(\"Number of user with field:\", np.count_nonzero(np.sum(user_field, axis=1)))\n",
    "\n",
    "def get_neighs(csr):\n",
    "    neighs = []\n",
    "#     t = time.time()\n",
    "    idx = np.arange(csr.shape[1])\n",
    "    for i in range(csr.shape[0]):\n",
    "        x = csr[i, :].toarray()[0] > 0\n",
    "        neighs.append(idx[x])\n",
    "#         if i % (10*1000) == 0:\n",
    "#             print('sec/10k:', time.time()-t)\n",
    "    return neighs\n",
    "\n",
    "def sample_neigh(neigh, num_sample):\n",
    "    if len(neigh) >= num_sample:\n",
    "        sample_neigh = np.random.choice(neigh, num_sample, replace=False)\n",
    "    elif len(neigh) < num_sample:\n",
    "        sample_neigh = np.random.choice(neigh, num_sample, replace=True)\n",
    "    return sample_neigh\n",
    "\n",
    "neighs = get_neighs(user_field)\n",
    "\n",
    "sample_neighs = []\n",
    "for i in range(len(neighs)):\n",
    "    sample_neighs.append(list(sample_neigh(neighs[i], NUM_FIELD)))\n",
    "sample_neighs = np.array(sample_neighs)\n",
    "np.save('./input/user_field.npy', sample_neighs)\n",
    "print('Shape of sampled user_field:', sample_neighs.shape)"
   ]
  },
  {
   "cell_type": "markdown",
   "metadata": {},
   "source": [
    "# For HGAT"
   ]
  },
  {
   "cell_type": "code",
   "execution_count": 29,
   "metadata": {},
   "outputs": [],
   "source": [
    "import time\n",
    "import numpy as np\n",
    "import pandas as pd\n",
    "import networkx as nx\n",
    "import scipy.sparse as sp"
   ]
  },
  {
   "cell_type": "code",
   "execution_count": 30,
   "metadata": {},
   "outputs": [],
   "source": [
    "def graph_reader(path):\n",
    "    \"\"\"\n",
    "    Function to read the graph from the path.\n",
    "    :param path: Path to the edge list.\n",
    "    :return graph: NetworkX object returned.\n",
    "    \"\"\"\n",
    "    graph = nx.from_edgelist(pd.read_csv(path).values.tolist())\n",
    "    return graph\n",
    "\n",
    "def get_neighs(csr):\n",
    "    neighs = []\n",
    "#     t = time.time()\n",
    "    idx = np.arange(csr.shape[1])\n",
    "    for i in range(csr.shape[0]):\n",
    "        x = csr[i, :].toarray()[0] > 0\n",
    "        neighs.append(idx[x])\n",
    "#         if i % (10*1000) == 0:\n",
    "#             print('sec/10k:', time.time()-t)\n",
    "    return neighs\n",
    "\n",
    "def sample_neigh(neigh, num_sample):\n",
    "    if len(neigh) >= num_sample:\n",
    "        sample_neigh = np.random.choice(neigh, num_sample, replace=False)\n",
    "    elif len(neigh) < num_sample:\n",
    "        sample_neigh = np.random.choice(neigh, num_sample, replace=True)\n",
    "    return sample_neigh\n",
    "\n",
    "def get_sample_neighs(neighs, num_sample_1, num_sample_2):\n",
    "    sample_neighs = []\n",
    "#     t = time.time()\n",
    "    for i in range(len(neighs)):\n",
    "        sample_neigh_1 = list(sample_neigh(neighs[i], num_sample_1))\n",
    "        sample_neigh_2 = []\n",
    "        for j in sample_neigh_1:\n",
    "            neigh = neighs[j]\n",
    "            sample_neigh_2.append(list(sample_neigh(neigh, num_sample_2)))\n",
    "        sample_neigh_2 = np.array(sample_neigh_2).flatten().tolist()\n",
    "        sample_neighs.append(sample_neigh_1 + sample_neigh_2 + [i])\n",
    "#         if i % (10*1000) == 0:\n",
    "#             print('sec/10k:', time.time()-t)\n",
    "    return np.array(sample_neighs)"
   ]
  },
  {
   "cell_type": "code",
   "execution_count": null,
   "metadata": {},
   "outputs": [],
   "source": [
    "np.random.seed(42)\n",
    "\n",
    "NUM_1 = 10\n",
    "NUM_2 = 4\n",
    "\n",
    "graph = graph_reader('./input/user_edge.csv')\n",
    "user_adj = nx.adjacency_matrix(graph, nodelist=graph.nodes())\n",
    "print(user_adj.shape)"
   ]
  },
  {
   "cell_type": "code",
   "execution_count": null,
   "metadata": {
    "scrolled": true
   },
   "outputs": [],
   "source": [
    "neighs = get_neighs(user_adj)\n",
    "sample_neighs = get_sample_neighs(neighs, NUM_1, NUM_2)\n",
    "np.save(\"./input/vertex_id.npy\", sample_neighs)\n",
    "print('shape of sample_user:', sample_neighs.shape)"
   ]
  },
  {
   "cell_type": "code",
   "execution_count": null,
   "metadata": {},
   "outputs": [],
   "source": [
    "adj_dict = {}\n",
    "idx = np.arange(user_adj.shape[1])\n",
    "# t = time.time()\n",
    "for i in range(user_adj.shape[0]):\n",
    "    x = user_adj[i, :].toarray()[0] > 0\n",
    "    for j in idx[x]:\n",
    "        adj_dict[(i, j)] = True\n",
    "#     if i % (10*1000) == 0:\n",
    "#         print('sec/10k:', time.time()-t)\n",
    "print('adj_dict is completed!')"
   ]
  },
  {
   "cell_type": "code",
   "execution_count": null,
   "metadata": {},
   "outputs": [],
   "source": [
    "sample_user_adj = np.zeros((\n",
    "    sample_neighs.shape[0], sample_neighs.shape[1], sample_neighs.shape[1]), dtype=np.float32)\n",
    "# t = time.time()\n",
    "for i in range(sample_neighs.shape[0]):\n",
    "    for j in range(sample_neighs.shape[1]):\n",
    "        for k in range(sample_neighs.shape[1]):\n",
    "            if adj_dict.get((sample_neighs[i, j], sample_neighs[i, k])):\n",
    "                sample_user_adj[i, j, k] = 1.\n",
    "#     if i % (10*1000) == 0:\n",
    "#         print('sec/10k:', time.time()-t)\n",
    "np.save(\"./input/adjacency_matrix.npy\", sample_user_adj)\n",
    "print('shape of sample_user_adj:', sample_user_adj.shape)"
   ]
  },
  {
   "cell_type": "code",
   "execution_count": null,
   "metadata": {},
   "outputs": [],
   "source": []
  }
 ],
 "metadata": {
  "kernelspec": {
   "display_name": "Python 3",
   "language": "python",
   "name": "python3"
  },
  "language_info": {
   "codemirror_mode": {
    "name": "ipython",
    "version": 3
   },
   "file_extension": ".py",
   "mimetype": "text/x-python",
   "name": "python",
   "nbconvert_exporter": "python",
   "pygments_lexer": "ipython3",
   "version": "3.5.2"
  }
 },
 "nbformat": 4,
 "nbformat_minor": 2
}
